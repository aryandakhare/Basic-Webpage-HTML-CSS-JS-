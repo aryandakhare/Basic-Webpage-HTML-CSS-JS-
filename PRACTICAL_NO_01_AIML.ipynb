{
  "nbformat": 4,
  "nbformat_minor": 0,
  "metadata": {
    "colab": {
      "provenance": [],
      "authorship_tag": "ABX9TyPZF3KXkt4hLzoUwrBypB0N",
      "include_colab_link": true
    },
    "kernelspec": {
      "name": "python3",
      "display_name": "Python 3"
    },
    "language_info": {
      "name": "python"
    }
  },
  "cells": [
    {
      "cell_type": "markdown",
      "metadata": {
        "id": "view-in-github",
        "colab_type": "text"
      },
      "source": [
        "<a href=\"https://colab.research.google.com/github/aryandakhare/Basic-Webpage-HTML-CSS-JS-/blob/main/PRACTICAL_NO_01_AIML.ipynb\" target=\"_parent\"><img src=\"https://colab.research.google.com/assets/colab-badge.svg\" alt=\"Open In Colab\"/></a>"
      ]
    },
    {
      "cell_type": "markdown",
      "source": [
        "EXPERIMENT NO: 01,\n",
        "NAME: Aryan Gajanan Dakhare,\n",
        "BT ID: BT230009DS,\n",
        "SUBJECT: AI/ML"
      ],
      "metadata": {
        "id": "funuBAFCQFQF"
      }
    },
    {
      "cell_type": "code",
      "execution_count": 1,
      "metadata": {
        "colab": {
          "base_uri": "https://localhost:8080/",
          "height": 0
        },
        "id": "16e9h73rP5x8",
        "outputId": "98f3017b-f669-44c8-f2c2-1945549fc62d"
      },
      "outputs": [
        {
          "output_type": "stream",
          "name": "stdout",
          "text": [
            "    Age  Salary  Gender_Male\n",
            "0  0.00   0.000          1.0\n",
            "1  0.25   1.000          0.0\n",
            "2  0.50   0.500          0.0\n",
            "3  1.00   0.425          1.0\n",
            "4  0.75   0.200          0.0\n"
          ]
        }
      ],
      "source": [
        "import pandas as pd\n",
        "from sklearn.preprocessing import MinMaxScaler, OneHotEncoder\n",
        "from sklearn.impute import SimpleImputer\n",
        "# Sample data\n",
        "data = pd.DataFrame({\n",
        "'Age': [25, 30, None, 45, 40],\n",
        "'Salary': [50000, 60000, 55000, None, 52000],\n",
        "'Gender': ['Male', 'Female', 'Female', 'Male', 'Female']\n",
        "})\n",
        "# Handle missing values\n",
        "imputer = SimpleImputer(strategy='mean')\n",
        "data[['Age', 'Salary']] = imputer.fit_transform(data[['Age',\n",
        "'Salary']])\n",
        "# Normalize numerical features\n",
        "scaler = MinMaxScaler()\n",
        "data[['Age', 'Salary']] = scaler.fit_transform(data[['Age',\n",
        "'Salary']])\n",
        "# One-hot encode categorical features\n",
        "encoder = OneHotEncoder(sparse_output=False, drop='first')\n",
        "encoded_gender = encoder.fit_transform(data[['Gender']])\n",
        "gender_df = pd.DataFrame(encoded_gender,\n",
        "columns=encoder.get_feature_names_out(['Gender']))\n",
        "# Combine all\n",
        "processed_data = pd.concat([data.drop('Gender', axis=1), gender_df],\n",
        "axis=1)\n",
        "print(processed_data)\n"
      ]
    }
  ]
}