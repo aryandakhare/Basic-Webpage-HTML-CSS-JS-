{
  "nbformat": 4,
  "nbformat_minor": 0,
  "metadata": {
    "colab": {
      "provenance": [],
      "authorship_tag": "ABX9TyPLnuyno8LjkxYBf+Zq+u2K",
      "include_colab_link": true
    },
    "kernelspec": {
      "name": "python3",
      "display_name": "Python 3"
    },
    "language_info": {
      "name": "python"
    }
  },
  "cells": [
    {
      "cell_type": "markdown",
      "metadata": {
        "id": "view-in-github",
        "colab_type": "text"
      },
      "source": [
        "<a href=\"https://colab.research.google.com/github/aryandakhare/Basic-Webpage-HTML-CSS-JS-/blob/main/PRACTICAL_NO_08.ipynb\" target=\"_parent\"><img src=\"https://colab.research.google.com/assets/colab-badge.svg\" alt=\"Open In Colab\"/></a>"
      ]
    },
    {
      "cell_type": "markdown",
      "source": [
        "EXPERIMENT NO: 08,\n",
        "NAME: Aryan Gajanan Dakhare,\n",
        "BT ID: BT230009DS,\n",
        "SUBJECT: AI/ML"
      ],
      "metadata": {
        "id": "bLvfjG1mWrZL"
      }
    },
    {
      "cell_type": "code",
      "execution_count": 2,
      "metadata": {
        "colab": {
          "base_uri": "https://localhost:8080/"
        },
        "id": "frBVyrt9Wk8-",
        "outputId": "de1bfbe1-e066-4057-9986-b0931560b082"
      },
      "outputs": [
        {
          "output_type": "stream",
          "name": "stdout",
          "text": [
            "CV Scores: [0.96666667 1.         0.93333333 0.96666667 1.        ]\n",
            "Average Accuracy: 0.9733333333333334\n",
            "Best Parameters: {'C': 1}\n"
          ]
        }
      ],
      "source": [
        "from sklearn.datasets import load_iris\n",
        "from sklearn.linear_model import LogisticRegression\n",
        "from sklearn.model_selection import cross_val_score, StratifiedKFold, GridSearchCV\n",
        "# Load data\n",
        "X, y = load_iris(return_X_y=True)\n",
        "model = LogisticRegression(max_iter=1000)\n",
        "# K-Fold CV\n",
        "kf = StratifiedKFold(n_splits=5)\n",
        "scores = cross_val_score(model, X, y, cv=kf)\n",
        "\n",
        "print(\"CV Scores:\", scores)\n",
        "print(\"Average Accuracy:\", scores.mean())\n",
        "# Grid Search\n",
        "params = {'C': [0.01, 0.1, 1, 10]}\n",
        "grid = GridSearchCV(model, param_grid=params, cv=5)\n",
        "grid.fit(X, y)\n",
        "print(\"Best Parameters:\", grid.best_params_)"
      ]
    }
  ]
}