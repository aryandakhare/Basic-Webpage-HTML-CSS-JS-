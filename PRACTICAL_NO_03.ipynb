{
  "nbformat": 4,
  "nbformat_minor": 0,
  "metadata": {
    "colab": {
      "provenance": [],
      "authorship_tag": "ABX9TyO6py+WuCy0ZY7JKt/Om+KL",
      "include_colab_link": true
    },
    "kernelspec": {
      "name": "python3",
      "display_name": "Python 3"
    },
    "language_info": {
      "name": "python"
    }
  },
  "cells": [
    {
      "cell_type": "markdown",
      "metadata": {
        "id": "view-in-github",
        "colab_type": "text"
      },
      "source": [
        "<a href=\"https://colab.research.google.com/github/aryandakhare/Basic-Webpage-HTML-CSS-JS-/blob/main/PRACTICAL_NO_03.ipynb\" target=\"_parent\"><img src=\"https://colab.research.google.com/assets/colab-badge.svg\" alt=\"Open In Colab\"/></a>"
      ]
    },
    {
      "cell_type": "markdown",
      "source": [
        "EXPERIMENT NO: 03,\n",
        "NAME: Aryan Gajanan Dakhare,\n",
        "BT ID: BT230009DS,\n",
        "SUBJECT: AI/ML"
      ],
      "metadata": {
        "id": "yE73j3VzSbjK"
      }
    },
    {
      "cell_type": "code",
      "execution_count": 1,
      "metadata": {
        "colab": {
          "base_uri": "https://localhost:8080/"
        },
        "id": "77tea8kVSaBI",
        "outputId": "62cf7447-4601-4b5e-9600-815ddf558f68"
      },
      "outputs": [
        {
          "output_type": "stream",
          "name": "stdout",
          "text": [
            "Manual Coefficients (Intercept, Experience, Age): [17378.9473684   1684.21052631   263.15789474]\n",
            "Sklearn Coefficients: [1684.21052632  263.15789474] Intercept: 17378.94736842105\n",
            "MSE: 33684.21052631577\n"
          ]
        }
      ],
      "source": [
        "import numpy as np\n",
        "import pandas as pd\n",
        "from sklearn.linear_model import LinearRegression\n",
        "from sklearn.metrics import mean_squared_error\n",
        "# Sample data\n",
        "data = pd.DataFrame({\n",
        "'Experience': [1, 2, 3, 4, 5],\n",
        "'Age': [22, 25, 28, 30, 35],\n",
        "'Salary': [25000, 27000, 30000, 32000, 35000]\n",
        "})\n",
        "X = data[['Experience', 'Age']]\n",
        "y = data['Salary']\n",
        "# Manual calculation using Normal Equation: beta = (X^T X)^-1 X^T y\n",
        "X_manual = np.c_[np.ones(X.shape[0]), X] # Add intercept term (bias)\n",
        "beta = np.linalg.pinv(X_manual.T @ X_manual) @ X_manual.T @ y # safer than inv\n",
        "print(\"Manual Coefficients (Intercept, Experience, Age):\", beta)\n",
        "# Using scikit-learn\n",
        "model = LinearRegression()\n",
        "model.fit(X, y)\n",
        "print(\"Sklearn Coefficients:\", model.coef_, \"Intercept:\", model.intercept_)\n",
        "# Evaluate model\n",
        "y_pred = model.predict(X)\n",
        "print(\"MSE:\", mean_squared_error(y, y_pred))"
      ]
    }
  ]
}